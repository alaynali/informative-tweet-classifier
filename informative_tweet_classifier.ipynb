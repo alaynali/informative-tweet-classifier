{
 "cells": [
  {
   "cell_type": "markdown",
   "id": "2b699fb9",
   "metadata": {},
   "source": [
    "# Overview\n",
    "This notebook classifies COVID-19-related tweets as **INFORMATIVE** or **UNINFORMATIVE** using a fine-tuned Transformer model."
   ]
  },
  {
   "cell_type": "markdown",
   "id": "e843d7ea",
   "metadata": {},
   "source": [
    "### Imports\n",
    "load all required libraries for data handling, modeling, metrics, logging, and visualization."
   ]
  },
  {
   "cell_type": "code",
   "execution_count": 1,
   "id": "3033a75a",
   "metadata": {},
   "outputs": [
    {
     "name": "stderr",
     "output_type": "stream",
     "text": [
      "/Users/ayush/Desktop/informative-tweet-classifier/.venv/lib/python3.10/site-packages/tqdm/auto.py:21: TqdmWarning: IProgress not found. Please update jupyter and ipywidgets. See https://ipywidgets.readthedocs.io/en/stable/user_install.html\n",
      "  from .autonotebook import tqdm as notebook_tqdm\n"
     ]
    },
    {
     "name": "stdout",
     "output_type": "stream",
     "text": [
      "Requirement already satisfied: accelerate>=0.26.0 in ./.venv/lib/python3.10/site-packages (1.6.0)\n",
      "Requirement already satisfied: numpy<3.0.0,>=1.17 in ./.venv/lib/python3.10/site-packages (from accelerate>=0.26.0) (2.2.5)\n",
      "Requirement already satisfied: packaging>=20.0 in ./.venv/lib/python3.10/site-packages (from accelerate>=0.26.0) (25.0)\n",
      "Requirement already satisfied: psutil in ./.venv/lib/python3.10/site-packages (from accelerate>=0.26.0) (7.0.0)\n",
      "Requirement already satisfied: pyyaml in ./.venv/lib/python3.10/site-packages (from accelerate>=0.26.0) (6.0.2)\n",
      "Requirement already satisfied: torch>=2.0.0 in ./.venv/lib/python3.10/site-packages (from accelerate>=0.26.0) (2.7.0)\n",
      "Requirement already satisfied: huggingface-hub>=0.21.0 in ./.venv/lib/python3.10/site-packages (from accelerate>=0.26.0) (0.31.1)\n",
      "Requirement already satisfied: safetensors>=0.4.3 in ./.venv/lib/python3.10/site-packages (from accelerate>=0.26.0) (0.5.3)\n",
      "Requirement already satisfied: filelock in ./.venv/lib/python3.10/site-packages (from huggingface-hub>=0.21.0->accelerate>=0.26.0) (3.18.0)\n",
      "Requirement already satisfied: fsspec>=2023.5.0 in ./.venv/lib/python3.10/site-packages (from huggingface-hub>=0.21.0->accelerate>=0.26.0) (2025.3.0)\n",
      "Requirement already satisfied: requests in ./.venv/lib/python3.10/site-packages (from huggingface-hub>=0.21.0->accelerate>=0.26.0) (2.32.3)\n",
      "Requirement already satisfied: tqdm>=4.42.1 in ./.venv/lib/python3.10/site-packages (from huggingface-hub>=0.21.0->accelerate>=0.26.0) (4.67.1)\n",
      "Requirement already satisfied: typing-extensions>=3.7.4.3 in ./.venv/lib/python3.10/site-packages (from huggingface-hub>=0.21.0->accelerate>=0.26.0) (4.13.2)\n",
      "Requirement already satisfied: hf-xet<2.0.0,>=1.1.0 in ./.venv/lib/python3.10/site-packages (from huggingface-hub>=0.21.0->accelerate>=0.26.0) (1.1.0)\n",
      "Requirement already satisfied: sympy>=1.13.3 in ./.venv/lib/python3.10/site-packages (from torch>=2.0.0->accelerate>=0.26.0) (1.14.0)\n",
      "Requirement already satisfied: networkx in ./.venv/lib/python3.10/site-packages (from torch>=2.0.0->accelerate>=0.26.0) (3.4.2)\n",
      "Requirement already satisfied: jinja2 in ./.venv/lib/python3.10/site-packages (from torch>=2.0.0->accelerate>=0.26.0) (3.1.6)\n",
      "Requirement already satisfied: mpmath<1.4,>=1.1.0 in ./.venv/lib/python3.10/site-packages (from sympy>=1.13.3->torch>=2.0.0->accelerate>=0.26.0) (1.3.0)\n",
      "Requirement already satisfied: MarkupSafe>=2.0 in ./.venv/lib/python3.10/site-packages (from jinja2->torch>=2.0.0->accelerate>=0.26.0) (3.0.2)\n",
      "Requirement already satisfied: charset-normalizer<4,>=2 in ./.venv/lib/python3.10/site-packages (from requests->huggingface-hub>=0.21.0->accelerate>=0.26.0) (3.4.2)\n",
      "Requirement already satisfied: idna<4,>=2.5 in ./.venv/lib/python3.10/site-packages (from requests->huggingface-hub>=0.21.0->accelerate>=0.26.0) (3.10)\n",
      "Requirement already satisfied: urllib3<3,>=1.21.1 in ./.venv/lib/python3.10/site-packages (from requests->huggingface-hub>=0.21.0->accelerate>=0.26.0) (2.4.0)\n",
      "Requirement already satisfied: certifi>=2017.4.17 in ./.venv/lib/python3.10/site-packages (from requests->huggingface-hub>=0.21.0->accelerate>=0.26.0) (2025.4.26)\n",
      "\n",
      "\u001b[1m[\u001b[0m\u001b[34;49mnotice\u001b[0m\u001b[1;39;49m]\u001b[0m\u001b[39;49m A new release of pip is available: \u001b[0m\u001b[31;49m24.2\u001b[0m\u001b[39;49m -> \u001b[0m\u001b[32;49m25.1.1\u001b[0m\n",
      "\u001b[1m[\u001b[0m\u001b[34;49mnotice\u001b[0m\u001b[1;39;49m]\u001b[0m\u001b[39;49m To update, run: \u001b[0m\u001b[32;49mpip install --upgrade pip\u001b[0m\n"
     ]
    }
   ],
   "source": [
    "# === imports ===\n",
    "import os, random, numpy as np, torch\n",
    "from collections import Counter\n",
    "\n",
    "# data\n",
    "import pandas as pd\n",
    "from datasets import load_dataset, concatenate_datasets, Dataset\n",
    "\n",
    "# tokenization & modeling\n",
    "from transformers import (\n",
    "    AutoTokenizer,\n",
    "    AutoModelForSequenceClassification,\n",
    "    TrainingArguments,\n",
    "    Trainer,\n",
    "    AutoConfig,\n",
    "    set_seed,\n",
    "    TrainerCallback,\n",
    "    EarlyStoppingCallback\n",
    ")\n",
    "\n",
    "# metrics & visualiztion\n",
    "from sklearn.metrics import confusion_matrix, classification_report, accuracy_score, f1_score\n",
    "import matplotlib.pyplot as plt\n",
    "import seaborn as sns\n",
    "\n",
    "# logging\n",
    "from torch.utils.tensorboard import SummaryWriter\n",
    "from transformers.integrations import TensorBoardCallback\n",
    "\n",
    "!pip install 'accelerate>=0.26.0'\n"
   ]
  },
  {
   "cell_type": "markdown",
   "id": "292c09a9",
   "metadata": {},
   "source": [
    "### Setup and Device Config\n",
    "print library versions and check CUDA availability for GPU support"
   ]
  },
  {
   "cell_type": "code",
   "execution_count": 2,
   "id": "803f5ea2",
   "metadata": {},
   "outputs": [
    {
     "name": "stdout",
     "output_type": "stream",
     "text": [
      "4.51.3\n",
      "2.7.0\n",
      "False\n",
      "Using device: cpu\n"
     ]
    }
   ],
   "source": [
    "# === version check & device setup ===\n",
    "import transformers\n",
    "print(transformers.__version__)\n",
    "print(torch.__version__)\n",
    "print(torch.cuda.is_available())\n",
    "\n",
    "device = torch.device(\"cuda\" if torch.cuda.is_available() else \"cpu\")\n",
    "print(f\"Using device: {device}\")\n"
   ]
  },
  {
   "cell_type": "markdown",
   "id": "a9d961bf",
   "metadata": {},
   "source": [
    "### Load Dataset\n",
    "load training, validation, and test datasets from `.tsv` files"
   ]
  },
  {
   "cell_type": "code",
   "execution_count": 3,
   "id": "22a30b77",
   "metadata": {},
   "outputs": [
    {
     "name": "stdout",
     "output_type": "stream",
     "text": [
      "Counter({0: 3663, 1: 3273})\n",
      "Counter({0: 528, 1: 472})\n",
      "Counter({0: 1056, 1: 944})\n"
     ]
    }
   ],
   "source": [
    "# load tsv files as huggingface datasets\n",
    "def load_tsv(path):\n",
    "    df = pd.read_csv(path, sep='\\t')\n",
    "    df['label'] = df['Label'].map({'INFORMATIVE': 1, 'UNINFORMATIVE': 0})\n",
    "    return Dataset.from_pandas(df[['Text', 'label']])\n",
    "\n",
    "train_dataset = load_tsv(\"./data/train.tsv\")\n",
    "valid_dataset = load_tsv(\"./data/valid.tsv\")\n",
    "test_dataset = load_tsv(\"./data/test.tsv\")\n",
    "\n",
    "print(Counter(train_dataset[\"label\"]))\n",
    "print(Counter(valid_dataset[\"label\"]))\n",
    "print(Counter(test_dataset[\"label\"]))\n"
   ]
  },
  {
   "cell_type": "markdown",
   "id": "174be432",
   "metadata": {},
   "source": [
    "### Tokenizer and Model\n",
    "initialize the tokenizer and the model from HuggingFace, also tokenize the datasets."
   ]
  },
  {
   "cell_type": "code",
   "execution_count": 4,
   "id": "f1debbc3",
   "metadata": {},
   "outputs": [
    {
     "name": "stderr",
     "output_type": "stream",
     "text": [
      "Some weights of AlbertForSequenceClassification were not initialized from the model checkpoint at albert/albert-base-v2 and are newly initialized: ['classifier.bias', 'classifier.weight']\n",
      "You should probably TRAIN this model on a down-stream task to be able to use it for predictions and inference.\n"
     ]
    },
    {
     "name": "stdout",
     "output_type": "stream",
     "text": [
      "Trainable params: 11685122\n"
     ]
    },
    {
     "name": "stderr",
     "output_type": "stream",
     "text": [
      "Map: 100%|██████████| 6936/6936 [00:00<00:00, 9242.00 examples/s] \n",
      "Map: 100%|██████████| 1000/1000 [00:00<00:00, 19200.56 examples/s]\n",
      "Map: 100%|██████████| 2000/2000 [00:00<00:00, 18202.15 examples/s]\n"
     ]
    }
   ],
   "source": [
    "# === tokenizer & model ===\n",
    "checkpoint = \"albert/albert-base-v2\"\n",
    "tokenizer = AutoTokenizer.from_pretrained(checkpoint)\n",
    "model = AutoModelForSequenceClassification.from_pretrained(checkpoint, num_labels=2)\n",
    "model.to(device)\n",
    "\n",
    "# 30 million parameters limit\n",
    "print(\"Trainable params:\", sum(p.numel() for p in model.parameters() if p.requires_grad))\n",
    "\n",
    "def tokenize(batch):\n",
    "    return tokenizer(batch[\"Text\"], padding=True, truncation=True)\n",
    "\n",
    "# tokenize datasets\n",
    "train_encoded = train_dataset.map(tokenize, batched=True)\n",
    "valid_encoded = valid_dataset.map(tokenize, batched=True)\n",
    "test_encoded = test_dataset.map(tokenize, batched=True)\n",
    "\n",
    "# combine train and valid datasets - for final run after hyperparameter tuning\n",
    "full_train_encoded = concatenate_datasets([train_encoded, valid_encoded])\n"
   ]
  },
  {
   "cell_type": "markdown",
   "id": "5aea27f8",
   "metadata": {},
   "source": [
    "### Random Seed\n",
    "set a random seed for reproducibility across runs"
   ]
  },
  {
   "cell_type": "code",
   "execution_count": 5,
   "id": "573af374",
   "metadata": {},
   "outputs": [],
   "source": [
    "# === set random seed (for reproducibility) ===\n",
    "SEED = 42\n",
    "np.random.seed(SEED)\n",
    "torch.manual_seed(SEED)\n",
    "if torch.cuda.is_available():\n",
    "    torch.cuda.manual_seed_all(SEED)\n"
   ]
  },
  {
   "cell_type": "markdown",
   "id": "346d304f",
   "metadata": {},
   "source": [
    "### Metrics\n",
    "metric function to compute accuracy and F1 score during evaluation"
   ]
  },
  {
   "cell_type": "code",
   "execution_count": 6,
   "id": "e03eedae",
   "metadata": {},
   "outputs": [],
   "source": [
    "# metrics\n",
    "def compute_metrics(pred):\n",
    "    preds = pred.predictions.argmax(-1)\n",
    "    return {\n",
    "        \"accuracy\": accuracy_score(pred.label_ids, preds),\n",
    "        \"f1\": f1_score(pred.label_ids, preds)\n",
    "    }\n"
   ]
  },
  {
   "cell_type": "markdown",
   "id": "24ecc8a8",
   "metadata": {},
   "source": [
    "### Training Configuration\n",
    "configure training hyperparameters (batch sizes, epochs, learning rate, logging strategies, etc)"
   ]
  },
  {
   "cell_type": "code",
   "execution_count": 7,
   "id": "0d9221e9",
   "metadata": {},
   "outputs": [],
   "source": [
    "# === training ! ===\n",
    "training_args = TrainingArguments(\n",
    "    output_dir=\"./results\",\n",
    "    seed=SEED,\n",
    "    report_to=[\"tensorboard\"],\n",
    "    logging_dir=\"./logs\",\n",
    "    logging_strategy=\"steps\",\n",
    "    logging_steps=100,\n",
    "    eval_strategy=\"steps\",\n",
    "    eval_steps=200,\n",
    "    save_strategy=\"steps\",\n",
    "    save_steps=200,\n",
    "    per_device_train_batch_size=32,\n",
    "    per_device_eval_batch_size=64,\n",
    "    num_train_epochs=8,\n",
    "    weight_decay=0.1,\n",
    "    learning_rate=3e-5,\n",
    "    warmup_ratio=0.1,\n",
    "    load_best_model_at_end=True,\n",
    "    metric_for_best_model=\"accuracy\",\n",
    "    fp16=True,\n",
    "    gradient_accumulation_steps=2,\n",
    "    lr_scheduler_type=\"cosine_with_restarts\",\n",
    "    max_grad_norm=1.0,\n",
    "    save_total_limit=2,\n",
    ")\n"
   ]
  },
  {
   "cell_type": "markdown",
   "id": "f93e0fe1",
   "metadata": {},
   "source": [
    "#### Model Training\n",
    "set up `Trainer`, start training, evaluate on the test set, and save the final model"
   ]
  },
  {
   "cell_type": "code",
   "execution_count": 8,
   "id": "1857df81",
   "metadata": {},
   "outputs": [
    {
     "name": "stderr",
     "output_type": "stream",
     "text": [
      "/var/folders/0_/64y0d5316xx0fggd6p83kfb00000gn/T/ipykernel_9884/3235145273.py:2: FutureWarning: `tokenizer` is deprecated and will be removed in version 5.0.0 for `Trainer.__init__`. Use `processing_class` instead.\n",
      "  trainer = Trainer(\n"
     ]
    },
    {
     "ename": "ValueError",
     "evalue": "fp16 mixed precision requires a GPU (not 'mps').",
     "output_type": "error",
     "traceback": [
      "\u001b[0;31m---------------------------------------------------------------------------\u001b[0m",
      "\u001b[0;31mValueError\u001b[0m                                Traceback (most recent call last)",
      "Cell \u001b[0;32mIn[8], line 2\u001b[0m\n\u001b[1;32m      1\u001b[0m \u001b[38;5;66;03m# trainer setup\u001b[39;00m\n\u001b[0;32m----> 2\u001b[0m trainer \u001b[38;5;241m=\u001b[39m \u001b[43mTrainer\u001b[49m\u001b[43m(\u001b[49m\n\u001b[1;32m      3\u001b[0m \u001b[43m    \u001b[49m\u001b[43mmodel\u001b[49m\u001b[38;5;241;43m=\u001b[39;49m\u001b[43mmodel\u001b[49m\u001b[43m,\u001b[49m\n\u001b[1;32m      4\u001b[0m \u001b[43m    \u001b[49m\u001b[43margs\u001b[49m\u001b[38;5;241;43m=\u001b[39;49m\u001b[43mtraining_args\u001b[49m\u001b[43m,\u001b[49m\n\u001b[1;32m      5\u001b[0m \u001b[43m    \u001b[49m\u001b[43mtrain_dataset\u001b[49m\u001b[38;5;241;43m=\u001b[39;49m\u001b[43mfull_train_encoded\u001b[49m\u001b[43m,\u001b[49m\n\u001b[1;32m      6\u001b[0m \u001b[43m    \u001b[49m\u001b[43meval_dataset\u001b[49m\u001b[38;5;241;43m=\u001b[39;49m\u001b[43mtest_encoded\u001b[49m\u001b[43m,\u001b[49m\n\u001b[1;32m      7\u001b[0m \u001b[43m    \u001b[49m\u001b[43mtokenizer\u001b[49m\u001b[38;5;241;43m=\u001b[39;49m\u001b[43mtokenizer\u001b[49m\u001b[43m,\u001b[49m\n\u001b[1;32m      8\u001b[0m \u001b[43m    \u001b[49m\u001b[43mcompute_metrics\u001b[49m\u001b[38;5;241;43m=\u001b[39;49m\u001b[43mcompute_metrics\u001b[49m\u001b[43m,\u001b[49m\n\u001b[1;32m      9\u001b[0m \u001b[43m    \u001b[49m\u001b[43mcallbacks\u001b[49m\u001b[38;5;241;43m=\u001b[39;49m\u001b[43m[\u001b[49m\u001b[43mEarlyStoppingCallback\u001b[49m\u001b[43m(\u001b[49m\u001b[43mearly_stopping_patience\u001b[49m\u001b[38;5;241;43m=\u001b[39;49m\u001b[38;5;241;43m3\u001b[39;49m\u001b[43m,\u001b[49m\u001b[43m \u001b[49m\u001b[43mearly_stopping_threshold\u001b[49m\u001b[38;5;241;43m=\u001b[39;49m\u001b[38;5;241;43m0.005\u001b[39;49m\u001b[43m)\u001b[49m\u001b[43m]\u001b[49m\n\u001b[1;32m     10\u001b[0m \u001b[43m)\u001b[49m\n\u001b[1;32m     12\u001b[0m \u001b[38;5;66;03m# train the model\u001b[39;00m\n\u001b[1;32m     13\u001b[0m trainer\u001b[38;5;241m.\u001b[39mtrain()\n",
      "File \u001b[0;32m~/Desktop/informative-tweet-classifier/.venv/lib/python3.10/site-packages/transformers/utils/deprecation.py:172\u001b[0m, in \u001b[0;36mdeprecate_kwarg.<locals>.wrapper.<locals>.wrapped_func\u001b[0;34m(*args, **kwargs)\u001b[0m\n\u001b[1;32m    168\u001b[0m \u001b[38;5;28;01melif\u001b[39;00m minimum_action \u001b[38;5;129;01min\u001b[39;00m (Action\u001b[38;5;241m.\u001b[39mNOTIFY, Action\u001b[38;5;241m.\u001b[39mNOTIFY_ALWAYS) \u001b[38;5;129;01mand\u001b[39;00m \u001b[38;5;129;01mnot\u001b[39;00m is_torchdynamo_compiling():\n\u001b[1;32m    169\u001b[0m     \u001b[38;5;66;03m# DeprecationWarning is ignored by default, so we use FutureWarning instead\u001b[39;00m\n\u001b[1;32m    170\u001b[0m     warnings\u001b[38;5;241m.\u001b[39mwarn(message, \u001b[38;5;167;01mFutureWarning\u001b[39;00m, stacklevel\u001b[38;5;241m=\u001b[39m\u001b[38;5;241m2\u001b[39m)\n\u001b[0;32m--> 172\u001b[0m \u001b[38;5;28;01mreturn\u001b[39;00m \u001b[43mfunc\u001b[49m\u001b[43m(\u001b[49m\u001b[38;5;241;43m*\u001b[39;49m\u001b[43margs\u001b[49m\u001b[43m,\u001b[49m\u001b[43m \u001b[49m\u001b[38;5;241;43m*\u001b[39;49m\u001b[38;5;241;43m*\u001b[39;49m\u001b[43mkwargs\u001b[49m\u001b[43m)\u001b[49m\n",
      "File \u001b[0;32m~/Desktop/informative-tweet-classifier/.venv/lib/python3.10/site-packages/transformers/trainer.py:463\u001b[0m, in \u001b[0;36mTrainer.__init__\u001b[0;34m(self, model, args, data_collator, train_dataset, eval_dataset, processing_class, model_init, compute_loss_func, compute_metrics, callbacks, optimizers, optimizer_cls_and_kwargs, preprocess_logits_for_metrics)\u001b[0m\n\u001b[1;32m    460\u001b[0m \u001b[38;5;28mself\u001b[39m\u001b[38;5;241m.\u001b[39mdeepspeed \u001b[38;5;241m=\u001b[39m \u001b[38;5;28;01mNone\u001b[39;00m\n\u001b[1;32m    461\u001b[0m \u001b[38;5;28mself\u001b[39m\u001b[38;5;241m.\u001b[39mis_in_train \u001b[38;5;241m=\u001b[39m \u001b[38;5;28;01mFalse\u001b[39;00m\n\u001b[0;32m--> 463\u001b[0m \u001b[38;5;28;43mself\u001b[39;49m\u001b[38;5;241;43m.\u001b[39;49m\u001b[43mcreate_accelerator_and_postprocess\u001b[49m\u001b[43m(\u001b[49m\u001b[43m)\u001b[49m\n\u001b[1;32m    465\u001b[0m \u001b[38;5;66;03m# memory metrics - must set up as early as possible\u001b[39;00m\n\u001b[1;32m    466\u001b[0m \u001b[38;5;28mself\u001b[39m\u001b[38;5;241m.\u001b[39m_memory_tracker \u001b[38;5;241m=\u001b[39m TrainerMemoryTracker(\u001b[38;5;28mself\u001b[39m\u001b[38;5;241m.\u001b[39margs\u001b[38;5;241m.\u001b[39mskip_memory_metrics)\n",
      "File \u001b[0;32m~/Desktop/informative-tweet-classifier/.venv/lib/python3.10/site-packages/transformers/trainer.py:5156\u001b[0m, in \u001b[0;36mTrainer.create_accelerator_and_postprocess\u001b[0;34m(self)\u001b[0m\n\u001b[1;32m   5153\u001b[0m         \u001b[38;5;28;01mraise\u001b[39;00m \u001b[38;5;167;01mValueError\u001b[39;00m(\u001b[38;5;124m\"\u001b[39m\u001b[38;5;124mRequires accelerate>1.3.0 to use Tensor Parallelism.\u001b[39m\u001b[38;5;124m\"\u001b[39m)\n\u001b[1;32m   5155\u001b[0m \u001b[38;5;66;03m# create accelerator object\u001b[39;00m\n\u001b[0;32m-> 5156\u001b[0m \u001b[38;5;28mself\u001b[39m\u001b[38;5;241m.\u001b[39maccelerator \u001b[38;5;241m=\u001b[39m \u001b[43mAccelerator\u001b[49m\u001b[43m(\u001b[49m\u001b[38;5;241;43m*\u001b[39;49m\u001b[38;5;241;43m*\u001b[39;49m\u001b[43margs\u001b[49m\u001b[43m)\u001b[49m\n\u001b[1;32m   5157\u001b[0m \u001b[38;5;66;03m# some Trainer classes need to use `gather` instead of `gather_for_metrics`, thus we store a flag\u001b[39;00m\n\u001b[1;32m   5158\u001b[0m \u001b[38;5;28mself\u001b[39m\u001b[38;5;241m.\u001b[39mgather_function \u001b[38;5;241m=\u001b[39m \u001b[38;5;28mself\u001b[39m\u001b[38;5;241m.\u001b[39maccelerator\u001b[38;5;241m.\u001b[39mgather_for_metrics\n",
      "File \u001b[0;32m~/Desktop/informative-tweet-classifier/.venv/lib/python3.10/site-packages/accelerate/accelerator.py:555\u001b[0m, in \u001b[0;36mAccelerator.__init__\u001b[0;34m(self, device_placement, split_batches, mixed_precision, gradient_accumulation_steps, cpu, dataloader_config, deepspeed_plugin, fsdp_plugin, torch_tp_plugin, megatron_lm_plugin, rng_types, log_with, project_dir, project_config, gradient_accumulation_plugin, step_scheduler_with_optimizer, kwargs_handlers, dynamo_backend, dynamo_plugin, deepspeed_plugins)\u001b[0m\n\u001b[1;32m    544\u001b[0m \u001b[38;5;28mself\u001b[39m\u001b[38;5;241m.\u001b[39mnative_amp \u001b[38;5;241m=\u001b[39m \u001b[38;5;28;01mTrue\u001b[39;00m\n\u001b[1;32m    545\u001b[0m \u001b[38;5;28;01mif\u001b[39;00m \u001b[38;5;28mself\u001b[39m\u001b[38;5;241m.\u001b[39mdevice\u001b[38;5;241m.\u001b[39mtype \u001b[38;5;129;01mnot\u001b[39;00m \u001b[38;5;129;01min\u001b[39;00m (\n\u001b[1;32m    546\u001b[0m     \u001b[38;5;124m\"\u001b[39m\u001b[38;5;124mxpu\u001b[39m\u001b[38;5;124m\"\u001b[39m,\n\u001b[1;32m    547\u001b[0m     \u001b[38;5;124m\"\u001b[39m\u001b[38;5;124mcuda\u001b[39m\u001b[38;5;124m\"\u001b[39m,\n\u001b[0;32m   (...)\u001b[0m\n\u001b[1;32m    553\u001b[0m     \u001b[38;5;124m\"\u001b[39m\u001b[38;5;124msdaa\u001b[39m\u001b[38;5;124m\"\u001b[39m,\n\u001b[1;32m    554\u001b[0m ) \u001b[38;5;129;01mor\u001b[39;00m is_torch_xla_available(check_is_tpu\u001b[38;5;241m=\u001b[39m\u001b[38;5;28;01mTrue\u001b[39;00m):\n\u001b[0;32m--> 555\u001b[0m     \u001b[38;5;28;01mraise\u001b[39;00m \u001b[38;5;167;01mValueError\u001b[39;00m(\u001b[38;5;124mf\u001b[39m\u001b[38;5;124m\"\u001b[39m\u001b[38;5;124mfp16 mixed precision requires a GPU (not \u001b[39m\u001b[38;5;132;01m{\u001b[39;00m\u001b[38;5;28mself\u001b[39m\u001b[38;5;241m.\u001b[39mdevice\u001b[38;5;241m.\u001b[39mtype\u001b[38;5;132;01m!r}\u001b[39;00m\u001b[38;5;124m).\u001b[39m\u001b[38;5;124m\"\u001b[39m)\n\u001b[1;32m    556\u001b[0m kwargs \u001b[38;5;241m=\u001b[39m \u001b[38;5;28mself\u001b[39m\u001b[38;5;241m.\u001b[39mscaler_handler\u001b[38;5;241m.\u001b[39mto_kwargs() \u001b[38;5;28;01mif\u001b[39;00m \u001b[38;5;28mself\u001b[39m\u001b[38;5;241m.\u001b[39mscaler_handler \u001b[38;5;129;01mis\u001b[39;00m \u001b[38;5;129;01mnot\u001b[39;00m \u001b[38;5;28;01mNone\u001b[39;00m \u001b[38;5;28;01melse\u001b[39;00m {}\n\u001b[1;32m    558\u001b[0m \u001b[38;5;66;03m# FSDP2 doesn't use ShardedGradScaler, don't want to modify `get_grad_scaler`, rather create a simple utility\u001b[39;00m\n",
      "\u001b[0;31mValueError\u001b[0m: fp16 mixed precision requires a GPU (not 'mps')."
     ]
    }
   ],
   "source": [
    "# trainer setup\n",
    "trainer = Trainer(\n",
    "    model=model,\n",
    "    args=training_args,\n",
    "    train_dataset=full_train_encoded,\n",
    "    eval_dataset=test_encoded,\n",
    "    tokenizer=tokenizer,\n",
    "    compute_metrics=compute_metrics,\n",
    "    callbacks=[EarlyStoppingCallback(early_stopping_patience=3, early_stopping_threshold=0.005)]\n",
    ")\n",
    "\n",
    "# train the model\n",
    "trainer.train()\n",
    "\n",
    "# evaluate model on test set\n",
    "eval_results = trainer.evaluate()\n",
    "print(f\"Final evaluation results: {eval_results}\")\n",
    "\n",
    "# save final model\n",
    "trainer.save_model(\"./final_model\")\n",
    "print(\"Training complete. Final model saved to './final_model'\")\n"
   ]
  },
  {
   "cell_type": "markdown",
   "id": "5bf0ba97",
   "metadata": {},
   "source": [
    "### Inference on Test Set\n",
    "generate predictions using the trained model"
   ]
  },
  {
   "cell_type": "code",
   "execution_count": null,
   "id": "e1123978",
   "metadata": {},
   "outputs": [],
   "source": [
    "# === prediction and evaluation ===\n",
    "test_df = pd.read_csv(\"./data/test.tsv\", sep=\"\\t\")\n",
    "test_df[\"label\"] = test_df[\"Label\"].map({\"UNINFORMATIVE\": 0, \"INFORMATIVE\": 1})\n",
    "test_ds = Dataset.from_pandas(test_df)\n",
    "\n",
    "# tokenize test data\n",
    "test_encoded = test_ds.map(\n",
    "    lambda b: tokenizer(b[\"Text\"], padding=\"max_length\", truncation=True, max_length=128),\n",
    "    batched=True\n",
    ")\n",
    "test_encoded.set_format(type=\"torch\", columns=[\"input_ids\", \"attention_mask\", \"label\"])\n",
    "\n",
    "# predict\n",
    "predictions = trainer.predict(test_encoded)\n",
    "preds = predictions.predictions.argmax(-1)\n",
    "labels = predictions.label_ids\n"
   ]
  },
  {
   "cell_type": "markdown",
   "id": "d224e5d2",
   "metadata": {},
   "source": [
    "### Evaluation Metrics\n",
    "confusion matrix, accuracy, F1 score, and classification report"
   ]
  },
  {
   "cell_type": "code",
   "execution_count": null,
   "id": "170c3878",
   "metadata": {},
   "outputs": [],
   "source": [
    "# print metrics\n",
    "cm = confusion_matrix(labels, preds)\n",
    "print(\"Confusion Matrix:\")\n",
    "print(cm)\n",
    "\n",
    "acc = accuracy_score(labels, preds)\n",
    "f1 = f1_score(labels, preds)\n",
    "\n",
    "print(f\"Test Accuracy: {acc:.4f}\")\n",
    "print(f\"Test F1 Score: {f1:.4f}\")\n",
    "\n",
    "# classification report\n",
    "report = classification_report(labels, preds, target_names=[\"UNINFORMATIVE\", \"INFORMATIVE\"])\n",
    "print(\"\\nClassification Report:\")\n",
    "print(report)\n"
   ]
  },
  {
   "cell_type": "code",
   "execution_count": null,
   "id": "7c2fb227",
   "metadata": {},
   "outputs": [],
   "source": [
    "# === plot confusion matrix === \n",
    "plt.figure(figsize=(6, 4))\n",
    "sns.heatmap(cm, annot=True, fmt='d', cmap='Blues', xticklabels=[\"UNINFORMATIVE\", \"INFORMATIVE\"], yticklabels=[\"UNINFORMATIVE\", \"INFORMATIVE\"])\n",
    "plt.xlabel(\"Predicted Label\")\n",
    "plt.ylabel(\"True Label\")\n",
    "plt.title(\"Confusion Matrix\")\n",
    "plt.tight_layout()\n",
    "plt.show()\n",
    "\n",
    "# === generate prediction.csv ===\n",
    "label_map = {1: \"INFORMATIVE\", 0: \"UNINFORMATIVE\"}\n",
    "submission = pd.DataFrame({\n",
    "    \"Id\": test_df[\"Id\"],\n",
    "    \"Label\": [label_map[p] for p in preds]\n",
    "})\n",
    "submission.to_csv(\"prediction.csv\", index=False)\n"
   ]
  }
 ],
 "metadata": {
  "kernelspec": {
   "display_name": ".venv",
   "language": "python",
   "name": "python3"
  },
  "language_info": {
   "codemirror_mode": {
    "name": "ipython",
    "version": 3
   },
   "file_extension": ".py",
   "mimetype": "text/x-python",
   "name": "python",
   "nbconvert_exporter": "python",
   "pygments_lexer": "ipython3",
   "version": "3.10.15"
  }
 },
 "nbformat": 4,
 "nbformat_minor": 5
}
